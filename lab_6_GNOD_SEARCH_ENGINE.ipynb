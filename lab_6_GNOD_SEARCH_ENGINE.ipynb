{
 "cells": [
  {
   "cell_type": "code",
   "execution_count": 1,
   "metadata": {},
   "outputs": [],
   "source": [
    "from bs4 import BeautifulSoup\n",
    "import requests\n",
    "import pandas as pd"
   ]
  },
  {
   "cell_type": "markdown",
   "metadata": {},
   "source": [
    "1. Scrape the current top 100 songs and their respective artists, and put the information into a pandas dataframe."
   ]
  },
  {
   "cell_type": "code",
   "execution_count": 2,
   "metadata": {},
   "outputs": [],
   "source": [
    "url = 'https://www.popvortex.com/music/charts/top-100-songs.php'"
   ]
  },
  {
   "cell_type": "code",
   "execution_count": 3,
   "metadata": {},
   "outputs": [
    {
     "data": {
      "text/plain": [
       "200"
      ]
     },
     "execution_count": 3,
     "metadata": {},
     "output_type": "execute_result"
    }
   ],
   "source": [
    "response = requests.get(url)\n",
    "response.status_code # 200 status code means OK!"
   ]
  },
  {
   "cell_type": "code",
   "execution_count": 4,
   "metadata": {},
   "outputs": [],
   "source": [
    "soup = BeautifulSoup(response.content, \"html.parser\")"
   ]
  },
  {
   "cell_type": "code",
   "execution_count": 5,
   "metadata": {},
   "outputs": [],
   "source": [
    "#soup"
   ]
  },
  {
   "cell_type": "code",
   "execution_count": 6,
   "metadata": {},
   "outputs": [],
   "source": [
    "#print(soup.prettify())"
   ]
  },
  {
   "cell_type": "code",
   "execution_count": 7,
   "metadata": {},
   "outputs": [],
   "source": [
    "#soup.select(\".title-artist\")"
   ]
  },
  {
   "cell_type": "code",
   "execution_count": 8,
   "metadata": {},
   "outputs": [
    {
     "name": "stdout",
     "output_type": "stream",
     "text": [
      "['Jimmy Buffett', 'Jimmy Buffett', 'Oliver Anthony Music', 'Smash Mouth', 'Jimmy Buffett', 'Zach Bryan', 'Jimmy Buffett', 'Doja Cat', 'Gary Wright', 'Jimmy Buffett', 'Jimmy Buffett', 'Luke Combs', 'Paul Russell', 'Nicki Minaj', 'Miley Cyrus', 'Jimmy Buffett', 'Taylor Swift', 'Smash Mouth', 'Smash Mouth', 'Jelly Roll', 'Morgan Wallen', 'Oliver Anthony Music', 'Dua Lipa', 'Jason Aldean', 'Gary Wright', 'Jimmy Buffett', 'Smash Mouth', 'Smash Mouth', 'Chris Stapleton', 'Lainey Wilson', 'Oliver Anthony Music', 'Smash Mouth', 'Morgan Wallen', 'Jelly Roll', 'Jimmy Buffett', 'Alan Jackson', 'Nickelback', 'Oliver Anthony Music', 'Jimmy Buffett', 'Miley Cyrus', 'Bailey Zimmerman', 'Miley Cyrus', 'Jimmy Buffett', 'Olivia Rodrigo', 'Jimmy Buffett', 'Fleetwood Mac', 'Rema & Selena Gomez', 'Wayland', 'Teddy Swims', 'Billie Eilish', 'Jimmy Buffett & Martina McBride', 'Timbaland, Nelly Furtado & Justin Timberlake', 'Trump Latinos', 'Crosby, Stills & Nash', 'Creedence Clearwater Revival', 'Radiant Melodies', 'Will Dempsey', 'Shinedown', 'Jelly Roll', 'Rod Stewart', 'HARDY', 'Smash Mouth', 'Nickelback', 'Jimmy Buffett', 'Luke Combs', 'Tom MacDonald & Adam Calhoun', 'Nickelback', 'Tyler Childers', 'Nickelback', 'Taylor Swift', 'Jimmy Buffett', 'Jimmy Buffett', 'Selena Gomez', 'Zac Brown Band', 'Kane Brown', 'Jimmy Buffett', 'Metallica', 'Oliver Anthony Music', 'Olivia Rodrigo', 'Vy Napi', 'Fall Out Boy', 'Griff', 'Zach Bryan', 'Morgan Wallen', 'Zach Bryan', 'Radiant Melodies', 'Chicago', 'Morgan Wallen', 'Noah Kahan & Post Malone', 'Pretenders', 'Chris Stapleton', 'Fleetwood Mac', 'Oliver Anthony Music', 'Fleetwood Mac', 'Evanescence', 'Nicki Minaj & Ice Spice', 'Smash Mouth', 'David Kushner', 'Shazam Conner & H-Town', 'Chicago']\n",
      "['Margaritaville', 'Come Monday', 'Rich Men North of Richmond', 'All Star', 'Cheeseburger In Paradise', 'I Remember Everything (feat. Kacey Musgraves)', 'Changes In Latitudes, Changes In Attitudes', 'Paint The Town Red', 'Dream Weaver', 'A Pirate Looks at Forty', \"It's Five O'Clock Somewhere (Live)\", 'Fast Car', 'Lil Boo Thang', 'Last Time I Saw You', 'Used To Be Young', 'Son of a Son of a Sailor', 'Cruel Summer', \"Walkin' On the Sun\", \"I'm a Believer\", 'Need A Favor', 'Last Night', 'I Want to go Home', 'Dance The Night', 'Try That In A Small Town', 'Love Is Alive', 'Fins', 'All Star', \"Walkin' on the Sun\", 'White Horse', 'Watermelon Moonshine', '90 some Chevy', \"Walkin' On the Sun\", 'Thinkin’ Bout Me', 'Save Me (with Lainey Wilson)', 'Southern Cross (Live)', \"It's Five O'Clock Somewhere (with Jimmy Buffett)\", 'Rockstar', 'Aint Gotta Dollar', \"Why Don't We Get Drunk\", 'Flowers', 'Religiously', 'Used To Be Young', 'Volcano', 'vampire', 'Brown Eyed Girl (Live)', 'Dreams', 'Calm Down', 'Indiana Jones', 'Lose Control', 'What Was I Made For? [From The Motion Picture \"Barbie\"]', 'Trip Around the Sun', 'Keep Going Up', 'Latinos For Trump', 'Southern Cross', 'Have You Ever Seen the Rain', 'Let My Heart Stop Missing Now', 'Beat You There', 'A Symptom Of Being Human', 'Son Of A Sinner', 'Forever Young', 'TRUCK BED', \"I'm a Believer (Radio)\", 'How You Remind Me', 'He Went to Paris', 'Love You Anyway', 'Whiteboyz', 'Far Away', 'In Your Love', 'Photograph', 'Anti-Hero', 'Come Monday', 'One Particular Harbour', 'Single Soon', 'Knee Deep (feat. Jimmy Buffett) [Greatest Hits Version]', 'Bury Me in Georgia (Single Edit)', 'Brown Eyed Girl', 'Enter Sandman', 'Ive Got to Get Sober', 'bad idea right?', 'Suddenly, One Day, There Is a Pink Love That Brings Good News', 'We Didn’t Start The Fire', 'Vertigo', \"Something in the Orange (Z&E's Version)\", 'Everything I Love', 'Hey Driver (feat. The War and Treaty)', 'The One Who Brought the Dreams Away', \"Hard to Say I'm Sorry / Get Away\", 'Thought You Should Know', 'Dial Drunk', \"I'll Stand By You\", 'Tennessee Whiskey', 'Gypsy', 'I Want To Go Home (live)', 'Rhiannon', 'Bring Me to Life', 'Barbie World (with Aqua)', \"Can't Get Enough of You Baby\", 'Daylight', 'Strokey Doke', \"You're the Inspiration\"]\n"
     ]
    }
   ],
   "source": [
    "title = []\n",
    "artist = []\n",
    "\n",
    "num_iter = len(soup.select(\".title-artist\"))\n",
    "tClist = soup.select(\".title-artist\")\n",
    "\n",
    "# iterate through the result set and retrive all the data\n",
    "for i in range(num_iter):\n",
    "    title.append(tClist[i].find(class_=\"title\").get_text())\n",
    "    artist.append(tClist[i].find(class_=\"artist\").get_text())\n",
    "\n",
    "print(artist)\n",
    "print(title)\n",
    "\n",
    "\n",
    "\n",
    "\n"
   ]
  },
  {
   "cell_type": "code",
   "execution_count": null,
   "metadata": {},
   "outputs": [],
   "source": [
    "songs = pd.DataFrame({\"artist\":artist,\n",
    "                       \"title\":title,\n",
    "                      })"
   ]
  },
  {
   "cell_type": "code",
   "execution_count": 10,
   "metadata": {},
   "outputs": [
    {
     "data": {
      "text/html": [
       "<div>\n",
       "<style scoped>\n",
       "    .dataframe tbody tr th:only-of-type {\n",
       "        vertical-align: middle;\n",
       "    }\n",
       "\n",
       "    .dataframe tbody tr th {\n",
       "        vertical-align: top;\n",
       "    }\n",
       "\n",
       "    .dataframe thead th {\n",
       "        text-align: right;\n",
       "    }\n",
       "</style>\n",
       "<table border=\"1\" class=\"dataframe\">\n",
       "  <thead>\n",
       "    <tr style=\"text-align: right;\">\n",
       "      <th></th>\n",
       "      <th>artist</th>\n",
       "      <th>title</th>\n",
       "    </tr>\n",
       "  </thead>\n",
       "  <tbody>\n",
       "    <tr>\n",
       "      <th>0</th>\n",
       "      <td>Jimmy Buffett</td>\n",
       "      <td>Margaritaville</td>\n",
       "    </tr>\n",
       "    <tr>\n",
       "      <th>1</th>\n",
       "      <td>Jimmy Buffett</td>\n",
       "      <td>Come Monday</td>\n",
       "    </tr>\n",
       "    <tr>\n",
       "      <th>2</th>\n",
       "      <td>Oliver Anthony Music</td>\n",
       "      <td>Rich Men North of Richmond</td>\n",
       "    </tr>\n",
       "    <tr>\n",
       "      <th>3</th>\n",
       "      <td>Smash Mouth</td>\n",
       "      <td>All Star</td>\n",
       "    </tr>\n",
       "    <tr>\n",
       "      <th>4</th>\n",
       "      <td>Jimmy Buffett</td>\n",
       "      <td>Cheeseburger In Paradise</td>\n",
       "    </tr>\n",
       "    <tr>\n",
       "      <th>...</th>\n",
       "      <td>...</td>\n",
       "      <td>...</td>\n",
       "    </tr>\n",
       "    <tr>\n",
       "      <th>95</th>\n",
       "      <td>Nicki Minaj &amp; Ice Spice</td>\n",
       "      <td>Barbie World (with Aqua)</td>\n",
       "    </tr>\n",
       "    <tr>\n",
       "      <th>96</th>\n",
       "      <td>Smash Mouth</td>\n",
       "      <td>Can't Get Enough of You Baby</td>\n",
       "    </tr>\n",
       "    <tr>\n",
       "      <th>97</th>\n",
       "      <td>David Kushner</td>\n",
       "      <td>Daylight</td>\n",
       "    </tr>\n",
       "    <tr>\n",
       "      <th>98</th>\n",
       "      <td>Shazam Conner &amp; H-Town</td>\n",
       "      <td>Strokey Doke</td>\n",
       "    </tr>\n",
       "    <tr>\n",
       "      <th>99</th>\n",
       "      <td>Chicago</td>\n",
       "      <td>You're the Inspiration</td>\n",
       "    </tr>\n",
       "  </tbody>\n",
       "</table>\n",
       "<p>100 rows × 2 columns</p>\n",
       "</div>"
      ],
      "text/plain": [
       "                     artist                         title\n",
       "0             Jimmy Buffett                Margaritaville\n",
       "1             Jimmy Buffett                   Come Monday\n",
       "2      Oliver Anthony Music    Rich Men North of Richmond\n",
       "3               Smash Mouth                      All Star\n",
       "4             Jimmy Buffett      Cheeseburger In Paradise\n",
       "..                      ...                           ...\n",
       "95  Nicki Minaj & Ice Spice      Barbie World (with Aqua)\n",
       "96              Smash Mouth  Can't Get Enough of You Baby\n",
       "97            David Kushner                      Daylight\n",
       "98   Shazam Conner & H-Town                  Strokey Doke\n",
       "99                  Chicago        You're the Inspiration\n",
       "\n",
       "[100 rows x 2 columns]"
      ]
     },
     "execution_count": 10,
     "metadata": {},
     "output_type": "execute_result"
    }
   ],
   "source": [
    "songs"
   ]
  },
  {
   "cell_type": "markdown",
   "metadata": {},
   "source": [
    "SEARCH ENGINE"
   ]
  },
  {
   "cell_type": "code",
   "execution_count": 14,
   "metadata": {},
   "outputs": [],
   "source": [
    "import random"
   ]
  },
  {
   "cell_type": "code",
   "execution_count": 20,
   "metadata": {},
   "outputs": [
    {
     "data": {
      "text/plain": [
       "'Try That In A Small Town'"
      ]
     },
     "execution_count": 20,
     "metadata": {},
     "output_type": "execute_result"
    }
   ],
   "source": [
    "def search_random_title(input_title):\n",
    "    if input_title in songs['title'].values:\n",
    "        while True:\n",
    "            random_title = random.choice(songs['title'])\n",
    "            if random_title != input_title:\n",
    "                return random_title\n",
    "    else:\n",
    "        return \"Sorry, we don't have this title.\"\n",
    "\n",
    "input_title = input(\"Enter a song title: \")\n",
    "search_random_title(input_title)"
   ]
  }
 ],
 "metadata": {
  "kernelspec": {
   "display_name": "Python 3 (ipykernel)",
   "language": "python",
   "name": "python3"
  },
  "language_info": {
   "codemirror_mode": {
    "name": "ipython",
    "version": 3
   },
   "file_extension": ".py",
   "mimetype": "text/x-python",
   "name": "python",
   "nbconvert_exporter": "python",
   "pygments_lexer": "ipython3",
   "version": "3.11.4"
  },
  "orig_nbformat": 4
 },
 "nbformat": 4,
 "nbformat_minor": 2
}
