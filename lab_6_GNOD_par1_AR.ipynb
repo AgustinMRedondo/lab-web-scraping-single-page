{
 "cells": [
  {
   "cell_type": "code",
   "execution_count": 11,
   "metadata": {},
   "outputs": [],
   "source": [
    "from bs4 import BeautifulSoup\n",
    "import requests\n",
    "import pandas as pd"
   ]
  },
  {
   "cell_type": "markdown",
   "metadata": {},
   "source": [
    "1. Scrape the current top 100 songs and their respective artists, and put the information into a pandas dataframe."
   ]
  },
  {
   "cell_type": "code",
   "execution_count": 12,
   "metadata": {},
   "outputs": [],
   "source": [
    "url = 'https://www.popvortex.com/music/charts/top-100-songs.php'"
   ]
  },
  {
   "cell_type": "code",
   "execution_count": 13,
   "metadata": {},
   "outputs": [
    {
     "data": {
      "text/plain": [
       "200"
      ]
     },
     "execution_count": 13,
     "metadata": {},
     "output_type": "execute_result"
    }
   ],
   "source": [
    "response = requests.get(url)\n",
    "response.status_code # 200 status code means OK!"
   ]
  },
  {
   "cell_type": "code",
   "execution_count": 14,
   "metadata": {},
   "outputs": [],
   "source": [
    "soup = BeautifulSoup(response.content, \"html.parser\")"
   ]
  },
  {
   "cell_type": "code",
   "execution_count": 15,
   "metadata": {},
   "outputs": [],
   "source": [
    "#soup"
   ]
  },
  {
   "cell_type": "code",
   "execution_count": 16,
   "metadata": {},
   "outputs": [],
   "source": [
    "#print(soup.prettify())"
   ]
  },
  {
   "cell_type": "code",
   "execution_count": 17,
   "metadata": {},
   "outputs": [],
   "source": [
    "#soup.select(\".title-artist\")"
   ]
  },
  {
   "cell_type": "code",
   "execution_count": 18,
   "metadata": {},
   "outputs": [
    {
     "name": "stdout",
     "output_type": "stream",
     "text": [
      "['Jimmy Buffett', 'Jimmy Buffett', 'Oliver Anthony Music', 'Jimmy Buffett', 'Smash Mouth', 'Jimmy Buffett', 'Doja Cat', 'Zach Bryan', 'Jimmy Buffett', 'Jimmy Buffett', 'Luke Combs', 'Paul Russell', 'Nicki Minaj', 'Jimmy Buffett', 'Miley Cyrus', 'Taylor Swift', 'Morgan Wallen', 'Oliver Anthony Music', 'Gary Wright', 'Jason Aldean', 'Jelly Roll', 'Dua Lipa', 'Jimmy Buffett', 'Smash Mouth', 'Chris Stapleton', 'Lainey Wilson', 'Oliver Anthony Music', 'Smash Mouth', 'Smash Mouth', 'Jimmy Buffett', 'Alan Jackson', 'Morgan Wallen', 'Smash Mouth', 'Jelly Roll', 'Jimmy Buffett', 'Nickelback', 'Miley Cyrus', 'Oliver Anthony Music', 'Gary Wright', 'Jimmy Buffett', 'Bailey Zimmerman', 'Fleetwood Mac', 'Smash Mouth', 'Jimmy Buffett', 'Rema & Selena Gomez', 'Wayland', 'Radiant Melodies', 'Miley Cyrus', 'Timbaland, Nelly Furtado & Justin Timberlake', 'Teddy Swims', 'Olivia Rodrigo', 'Shinedown', 'Trump Latinos', 'Jimmy Buffett & Martina McBride', 'Crosby, Stills & Nash', 'Billie Eilish', 'Nickelback', 'Creedence Clearwater Revival', 'Will Dempsey', 'Vy Napi', 'Radiant Melodies', 'Jelly Roll', 'Nickelback', 'Jimmy Buffett', 'Smash Mouth', 'Rod Stewart', 'Zac Brown Band', 'Oliver Anthony Music', 'Luke Combs', 'Nickelback', 'Selena Gomez', 'Jimmy Buffett', 'Chicago', 'Taylor Swift', 'HARDY', 'Tyler Childers', 'Kane Brown', 'Jimmy Buffett', 'Metallica', 'Tom MacDonald & Adam Calhoun', 'Chris Stapleton', 'Chicago', 'Nicki Minaj & Ice Spice', 'Zach Bryan', 'Morgan Wallen', 'Jimmy Buffett', 'Pretenders', 'Fall Out Boy', 'Fleetwood Mac', 'Fleetwood Mac', 'David Kushner', 'Radiant Melodies', 'Oliver Anthony Music', 'Morgan Wallen', 'Taylor Swift', 'Vy Napi', 'Norman Greenbaum', 'SZA', 'Noah Kahan & Post Malone', 'Olivia Rodrigo']\n",
      "['Margaritaville', 'Come Monday', 'Rich Men North of Richmond', 'Cheeseburger In Paradise', 'All Star', 'Changes In Latitudes, Changes In Attitudes', 'Paint The Town Red', 'I Remember Everything (feat. Kacey Musgraves)', 'A Pirate Looks at Forty', \"It's Five O'Clock Somewhere (Live)\", 'Fast Car', 'Lil Boo Thang', 'Last Time I Saw You', 'Son of a Son of a Sailor', 'Used To Be Young', 'Cruel Summer', 'Last Night', 'I Want to go Home', 'Dream Weaver', 'Try That In A Small Town', 'Need A Favor', 'Dance The Night', 'Fins', \"Walkin' On the Sun\", 'White Horse', 'Watermelon Moonshine', '90 some Chevy', \"I'm a Believer\", \"Walkin' on the Sun\", 'Southern Cross (Live)', \"It's Five O'Clock Somewhere (with Jimmy Buffett)\", 'Thinkin’ Bout Me', 'All Star', 'Save Me (with Lainey Wilson)', \"Why Don't We Get Drunk\", 'Rockstar', 'Flowers', 'Aint Gotta Dollar', 'Love Is Alive', 'Brown Eyed Girl (Live)', 'Religiously', 'Dreams', \"Walkin' On the Sun\", 'Volcano', 'Calm Down', 'Indiana Jones', 'Let My Heart Stop Missing Now', 'Used To Be Young', 'Keep Going Up', 'Lose Control', 'vampire', 'A Symptom Of Being Human', 'Latinos For Trump', 'Trip Around the Sun', 'Southern Cross', 'What Was I Made For? [From The Motion Picture \"Barbie\"]', 'How You Remind Me', 'Have You Ever Seen the Rain', 'Beat You There', 'Suddenly, One Day, There Is a Pink Love That Brings Good News', 'The One Who Brought the Dreams Away', 'Son Of A Sinner', 'Far Away', 'He Went to Paris', \"I'm a Believer (Radio)\", 'Forever Young', 'Knee Deep (feat. Jimmy Buffett) [Greatest Hits Version]', 'Ive Got to Get Sober', 'Love You Anyway', 'Photograph', 'Single Soon', 'Brown Eyed Girl', \"Hard to Say I'm Sorry / Get Away\", 'Anti-Hero', 'TRUCK BED', 'In Your Love', 'Bury Me in Georgia (Single Edit)', 'Come Monday', 'Enter Sandman', 'Whiteboyz', 'Tennessee Whiskey', \"You're the Inspiration\", 'Barbie World (with Aqua)', \"Something in the Orange (Z&E's Version)\", 'Everything I Love', 'One Particular Harbour', \"I'll Stand By You\", 'We Didn’t Start The Fire', 'Gypsy', 'Rhiannon', 'Daylight', 'Who Else Is Holding On To Anyone In the Afternoon?', 'I Want To Go Home (live)', 'Thought You Should Know', 'august', \"Don't Keep It In Your Heart, There's Nothing Happy About It\", 'Spirit In the Sky', 'Snooze', 'Dial Drunk', 'bad idea right?']\n"
     ]
    }
   ],
   "source": [
    "title = []\n",
    "artist = []\n",
    "\n",
    "num_iter = len(soup.select(\".title-artist\"))\n",
    "tClist = soup.select(\".title-artist\")\n",
    "\n",
    "# iterate through the result set and retrive all the data\n",
    "for i in range(num_iter):\n",
    "    title.append(tClist[i].find(class_=\"title\").get_text())\n",
    "    artist.append(tClist[i].find(class_=\"artist\").get_text())\n",
    "\n",
    "print(artist)\n",
    "print(title)\n",
    "\n",
    "\n",
    "\n",
    "\n"
   ]
  },
  {
   "cell_type": "code",
   "execution_count": 19,
   "metadata": {},
   "outputs": [],
   "source": [
    "songs = pd.DataFrame({\"artist\":artist,\n",
    "                       \"title\":title,\n",
    "                      })"
   ]
  },
  {
   "cell_type": "code",
   "execution_count": 20,
   "metadata": {},
   "outputs": [
    {
     "data": {
      "text/html": [
       "<div>\n",
       "<style scoped>\n",
       "    .dataframe tbody tr th:only-of-type {\n",
       "        vertical-align: middle;\n",
       "    }\n",
       "\n",
       "    .dataframe tbody tr th {\n",
       "        vertical-align: top;\n",
       "    }\n",
       "\n",
       "    .dataframe thead th {\n",
       "        text-align: right;\n",
       "    }\n",
       "</style>\n",
       "<table border=\"1\" class=\"dataframe\">\n",
       "  <thead>\n",
       "    <tr style=\"text-align: right;\">\n",
       "      <th></th>\n",
       "      <th>artist</th>\n",
       "      <th>title</th>\n",
       "    </tr>\n",
       "  </thead>\n",
       "  <tbody>\n",
       "    <tr>\n",
       "      <th>0</th>\n",
       "      <td>Jimmy Buffett</td>\n",
       "      <td>Margaritaville</td>\n",
       "    </tr>\n",
       "    <tr>\n",
       "      <th>1</th>\n",
       "      <td>Jimmy Buffett</td>\n",
       "      <td>Come Monday</td>\n",
       "    </tr>\n",
       "    <tr>\n",
       "      <th>2</th>\n",
       "      <td>Oliver Anthony Music</td>\n",
       "      <td>Rich Men North of Richmond</td>\n",
       "    </tr>\n",
       "    <tr>\n",
       "      <th>3</th>\n",
       "      <td>Jimmy Buffett</td>\n",
       "      <td>Cheeseburger In Paradise</td>\n",
       "    </tr>\n",
       "    <tr>\n",
       "      <th>4</th>\n",
       "      <td>Smash Mouth</td>\n",
       "      <td>All Star</td>\n",
       "    </tr>\n",
       "    <tr>\n",
       "      <th>...</th>\n",
       "      <td>...</td>\n",
       "      <td>...</td>\n",
       "    </tr>\n",
       "    <tr>\n",
       "      <th>95</th>\n",
       "      <td>Vy Napi</td>\n",
       "      <td>Don't Keep It In Your Heart, There's Nothing H...</td>\n",
       "    </tr>\n",
       "    <tr>\n",
       "      <th>96</th>\n",
       "      <td>Norman Greenbaum</td>\n",
       "      <td>Spirit In the Sky</td>\n",
       "    </tr>\n",
       "    <tr>\n",
       "      <th>97</th>\n",
       "      <td>SZA</td>\n",
       "      <td>Snooze</td>\n",
       "    </tr>\n",
       "    <tr>\n",
       "      <th>98</th>\n",
       "      <td>Noah Kahan &amp; Post Malone</td>\n",
       "      <td>Dial Drunk</td>\n",
       "    </tr>\n",
       "    <tr>\n",
       "      <th>99</th>\n",
       "      <td>Olivia Rodrigo</td>\n",
       "      <td>bad idea right?</td>\n",
       "    </tr>\n",
       "  </tbody>\n",
       "</table>\n",
       "<p>100 rows × 2 columns</p>\n",
       "</div>"
      ],
      "text/plain": [
       "                      artist  \\\n",
       "0              Jimmy Buffett   \n",
       "1              Jimmy Buffett   \n",
       "2       Oliver Anthony Music   \n",
       "3              Jimmy Buffett   \n",
       "4                Smash Mouth   \n",
       "..                       ...   \n",
       "95                   Vy Napi   \n",
       "96          Norman Greenbaum   \n",
       "97                       SZA   \n",
       "98  Noah Kahan & Post Malone   \n",
       "99            Olivia Rodrigo   \n",
       "\n",
       "                                                title  \n",
       "0                                      Margaritaville  \n",
       "1                                         Come Monday  \n",
       "2                          Rich Men North of Richmond  \n",
       "3                            Cheeseburger In Paradise  \n",
       "4                                            All Star  \n",
       "..                                                ...  \n",
       "95  Don't Keep It In Your Heart, There's Nothing H...  \n",
       "96                                  Spirit In the Sky  \n",
       "97                                             Snooze  \n",
       "98                                         Dial Drunk  \n",
       "99                                    bad idea right?  \n",
       "\n",
       "[100 rows x 2 columns]"
      ]
     },
     "execution_count": 20,
     "metadata": {},
     "output_type": "execute_result"
    }
   ],
   "source": [
    "songs"
   ]
  }
 ],
 "metadata": {
  "kernelspec": {
   "display_name": "Python 3 (ipykernel)",
   "language": "python",
   "name": "python3"
  },
  "language_info": {
   "codemirror_mode": {
    "name": "ipython",
    "version": 3
   },
   "file_extension": ".py",
   "mimetype": "text/x-python",
   "name": "python",
   "nbconvert_exporter": "python",
   "pygments_lexer": "ipython3",
   "version": "3.11.4"
  },
  "orig_nbformat": 4
 },
 "nbformat": 4,
 "nbformat_minor": 2
}
